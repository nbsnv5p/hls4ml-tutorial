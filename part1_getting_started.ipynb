{
 "cells": [
  {
   "cell_type": "markdown",
   "metadata": {},
   "source": [
    "# Part 1: Getting started"
   ]
  },
  {
   "cell_type": "code",
   "execution_count": 21,
   "metadata": {},
   "outputs": [],
   "source": [
    "from keras.utils import to_categorical\n",
    "from sklearn.datasets import fetch_openml\n",
    "from sklearn.model_selection import train_test_split\n",
    "from sklearn.preprocessing import LabelEncoder, StandardScaler\n",
    "import numpy as np\n",
    "\n",
    "%matplotlib inline\n",
    "seed = 0\n",
    "np.random.seed(seed)\n",
    "import tensorflow as tf\n",
    "\n",
    "tf.random.set_seed(seed)\n",
    "import os\n",
    "vivado_bin_path = r\"E:\\vivvvado\\Vivado\\2023.2\\bin\"\n",
    "os.environ['PATH'] = vivado_bin_path + os.pathsep + os.environ['PATH']\n",
    "#os.environ['PATH'] = os.environ['XILINX_VIVADO'] + '/bin:' + os.environ['PATH']"
   ]
  },
  {
   "cell_type": "markdown",
   "metadata": {},
   "source": [
    "## Fetch the jet tagging dataset from Open ML"
   ]
  },
  {
   "cell_type": "code",
   "execution_count": 2,
   "metadata": {},
   "outputs": [
    {
     "name": "stderr",
     "output_type": "stream",
     "text": [
      "c:\\Users\\dhruv\\AppData\\Local\\Programs\\Python\\Python39\\lib\\site-packages\\sklearn\\datasets\\_openml.py:1022: FutureWarning: The default value of `parser` will change from `'liac-arff'` to `'auto'` in 1.4. You can set `parser='auto'` to silence this warning. Therefore, an `ImportError` will be raised from 1.4 if the dataset is dense and pandas is not installed. Note that the pandas parser may return different data types. See the Notes Section in fetch_openml's API doc for details.\n",
      "  warn(\n"
     ]
    }
   ],
   "source": [
    "data = fetch_openml('hls4ml_lhc_jets_hlf')\n",
    "X, y = data['data'], data['target']"
   ]
  },
  {
   "cell_type": "markdown",
   "metadata": {},
   "source": [
    "### Let's print some information about the dataset\n",
    "Print the feature names and the dataset shape"
   ]
  },
  {
   "cell_type": "code",
   "execution_count": 3,
   "metadata": {
    "scrolled": true
   },
   "outputs": [
    {
     "name": "stdout",
     "output_type": "stream",
     "text": [
      "['zlogz', 'c1_b0_mmdt', 'c1_b1_mmdt', 'c1_b2_mmdt', 'c2_b1_mmdt', 'c2_b2_mmdt', 'd2_b1_mmdt', 'd2_b2_mmdt', 'd2_a1_b1_mmdt', 'd2_a1_b2_mmdt', 'm2_b1_mmdt', 'm2_b2_mmdt', 'n2_b1_mmdt', 'n2_b2_mmdt', 'mass_mmdt', 'multiplicity']\n",
      "(830000, 16) (830000,)\n",
      "      zlogz  c1_b0_mmdt  c1_b1_mmdt  c1_b2_mmdt  c2_b1_mmdt  c2_b2_mmdt  \\\n",
      "0 -2.935125    0.383155    0.005126    0.000084    0.009070    0.000179   \n",
      "1 -1.927335    0.270699    0.001585    0.000011    0.003232    0.000029   \n",
      "2 -3.112147    0.458171    0.097914    0.028588    0.124278    0.038487   \n",
      "3 -2.666515    0.437068    0.049122    0.007978    0.047477    0.004802   \n",
      "4 -2.484843    0.428981    0.041786    0.006110    0.023066    0.001123   \n",
      "\n",
      "   d2_b1_mmdt  d2_b2_mmdt  d2_a1_b1_mmdt  d2_a1_b2_mmdt  m2_b1_mmdt  \\\n",
      "0    1.769445    2.123898       1.769445       0.308185    0.135687   \n",
      "1    2.038834    2.563099       2.038834       0.211886    0.063729   \n",
      "2    1.269254    1.346238       1.269254       0.246488    0.115636   \n",
      "3    0.966505    0.601864       0.966505       0.160756    0.082196   \n",
      "4    0.552002    0.183821       0.552002       0.084338    0.048006   \n",
      "\n",
      "   m2_b2_mmdt  n2_b1_mmdt  n2_b2_mmdt   mass_mmdt  multiplicity  \n",
      "0    0.083278    0.412136    0.299058    8.926882          75.0  \n",
      "1    0.036310    0.310217    0.226661    3.886512          31.0  \n",
      "2    0.079094    0.357559    0.289220  162.144669          61.0  \n",
      "3    0.033311    0.238871    0.094516   91.258934          39.0  \n",
      "4    0.014450    0.141906    0.036665   79.725777          35.0  \n",
      "0    g\n",
      "1    w\n",
      "2    t\n",
      "3    z\n",
      "4    w\n",
      "Name: class, dtype: category\n",
      "Categories (5, object): ['g', 'q', 't', 'w', 'z']\n"
     ]
    }
   ],
   "source": [
    "print(data['feature_names'])\n",
    "print(X.shape, y.shape)\n",
    "print(X[:5])\n",
    "print(y[:5])"
   ]
  },
  {
   "cell_type": "markdown",
   "metadata": {},
   "source": [
    "As you saw above, the `y` target is an array of strings, e.g. \\['g', 'w',...\\] etc.\n",
    "We need to make this a \"One Hot\" encoding for the training.\n",
    "Then, split the dataset into training and validation sets"
   ]
  },
  {
   "cell_type": "code",
   "execution_count": 4,
   "metadata": {},
   "outputs": [
    {
     "name": "stdout",
     "output_type": "stream",
     "text": [
      "[[1. 0. 0. 0. 0.]\n",
      " [0. 0. 0. 1. 0.]\n",
      " [0. 0. 1. 0. 0.]\n",
      " [0. 0. 0. 0. 1.]\n",
      " [0. 0. 0. 1. 0.]]\n"
     ]
    }
   ],
   "source": [
    "le = LabelEncoder()\n",
    "y = le.fit_transform(y)\n",
    "y = to_categorical(y, 5)\n",
    "X_train_val, X_test, y_train_val, y_test = train_test_split(X, y, test_size=0.2, random_state=42)\n",
    "print(y[:5])"
   ]
  },
  {
   "cell_type": "code",
   "execution_count": 5,
   "metadata": {},
   "outputs": [],
   "source": [
    "scaler = StandardScaler()\n",
    "X_train_val = scaler.fit_transform(X_train_val)\n",
    "X_test = scaler.transform(X_test)"
   ]
  },
  {
   "cell_type": "code",
   "execution_count": 6,
   "metadata": {},
   "outputs": [],
   "source": [
    "np.save('X_train_val.npy', X_train_val)\n",
    "np.save('X_test.npy', X_test)\n",
    "np.save('y_train_val.npy', y_train_val)\n",
    "np.save('y_test.npy', y_test)\n",
    "np.save('classes.npy', le.classes_)"
   ]
  },
  {
   "cell_type": "markdown",
   "metadata": {},
   "source": [
    "## Now construct a model\n",
    "We'll use 3 hidden layers with 64, then 32, then 32 neurons. Each layer will use `relu` activation.\n",
    "Add an output layer with 5 neurons (one for each class), then finish with Softmax activation."
   ]
  },
  {
   "cell_type": "code",
   "execution_count": 7,
   "metadata": {},
   "outputs": [],
   "source": [
    "from keras.models import Sequential\n",
    "from keras.layers import Dense, Activation, BatchNormalization\n",
    "from keras.optimizers import Adam\n",
    "from keras.regularizers import l1\n",
    "from callbacks import all_callbacks"
   ]
  },
  {
   "cell_type": "code",
   "execution_count": 8,
   "metadata": {},
   "outputs": [],
   "source": [
    "model = Sequential()\n",
    "model.add(Dense(64, input_shape=(16,), name='fc1', kernel_initializer='lecun_uniform', kernel_regularizer=l1(0.0001)))\n",
    "model.add(Activation(activation='relu', name='relu1'))\n",
    "model.add(Dense(32, name='fc2', kernel_initializer='lecun_uniform', kernel_regularizer=l1(0.0001)))\n",
    "model.add(Activation(activation='relu', name='relu2'))\n",
    "model.add(Dense(32, name='fc3', kernel_initializer='lecun_uniform', kernel_regularizer=l1(0.0001)))\n",
    "model.add(Activation(activation='relu', name='relu3'))\n",
    "model.add(Dense(5, name='output', kernel_initializer='lecun_uniform', kernel_regularizer=l1(0.0001)))\n",
    "model.add(Activation(activation='softmax', name='softmax'))"
   ]
  },
  {
   "cell_type": "markdown",
   "metadata": {},
   "source": [
    "## Train the model\n",
    "We'll use Adam optimizer with categorical crossentropy loss.\n",
    "The callbacks will decay the learning rate and save the model into a directory 'model_1'\n",
    "The model isn't very complex, so this should just take a few minutes even on the CPU.\n",
    "If you've restarted the notebook kernel after training once, set `train = False` to load the trained model."
   ]
  },
  {
   "cell_type": "code",
   "execution_count": 10,
   "metadata": {},
   "outputs": [
    {
     "name": "stderr",
     "output_type": "stream",
     "text": [
      "WARNING:absl:`lr` is deprecated in Keras optimizer, please use `learning_rate` or use the legacy optimizer, e.g.,tf.keras.optimizers.legacy.Adam.\n"
     ]
    },
    {
     "name": "stdout",
     "output_type": "stream",
     "text": [
      "WARNING:tensorflow:`epsilon` argument is deprecated and will be removed, use `min_delta` instead.\n"
     ]
    },
    {
     "name": "stderr",
     "output_type": "stream",
     "text": [
      "WARNING:tensorflow:`epsilon` argument is deprecated and will be removed, use `min_delta` instead.\n"
     ]
    },
    {
     "name": "stdout",
     "output_type": "stream",
     "text": [
      "WARNING:tensorflow:`period` argument is deprecated. Please use `save_freq` to specify the frequency in number of batches seen.\n"
     ]
    },
    {
     "name": "stderr",
     "output_type": "stream",
     "text": [
      "WARNING:tensorflow:`period` argument is deprecated. Please use `save_freq` to specify the frequency in number of batches seen.\n"
     ]
    },
    {
     "name": "stdout",
     "output_type": "stream",
     "text": [
      "Epoch 1/30\n",
      "  1/487 [..............................] - ETA: 4:00 - loss: 0.7920 - accuracy: 0.7471WARNING:tensorflow:Callback method `on_train_batch_end` is slow compared to the batch time (batch time: 0.0013s vs `on_train_batch_end` time: 0.0022s). Check your callbacks.\n"
     ]
    },
    {
     "name": "stderr",
     "output_type": "stream",
     "text": [
      "WARNING:tensorflow:Callback method `on_train_batch_end` is slow compared to the batch time (batch time: 0.0013s vs `on_train_batch_end` time: 0.0022s). Check your callbacks.\n"
     ]
    },
    {
     "name": "stdout",
     "output_type": "stream",
     "text": [
      "463/487 [===========================>..] - ETA: 0s - loss: 0.7789 - accuracy: 0.7462\n",
      "***callbacks***\n",
      "saving losses to model_1\\losses.log\n",
      "\n",
      "Epoch 1: val_loss improved from inf to 0.77250, saving model to model_1\\KERAS_check_best_model.h5\n",
      "\n",
      "Epoch 1: val_loss improved from inf to 0.77250, saving model to model_1\\KERAS_check_best_model_weights.h5\n",
      "\n",
      "Epoch 1: saving model to model_1\\KERAS_check_model_last.h5\n",
      "\n",
      "Epoch 1: saving model to model_1\\KERAS_check_model_last_weights.h5\n",
      "\n",
      "***callbacks end***\n",
      "\n",
      "487/487 [==============================] - 2s 3ms/step - loss: 0.7782 - accuracy: 0.7464 - val_loss: 0.7725 - val_accuracy: 0.7478 - lr: 0.0010\n",
      "Epoch 2/30\n",
      "459/487 [===========================>..] - ETA: 0s - loss: 0.7598 - accuracy: 0.7513\n",
      "***callbacks***\n",
      "saving losses to model_1\\losses.log\n",
      "\n",
      "Epoch 2: val_loss improved from 0.77250 to 0.75686, saving model to model_1\\KERAS_check_best_model.h5\n",
      "\n",
      "Epoch 2: val_loss improved from 0.77250 to 0.75686, saving model to model_1\\KERAS_check_best_model_weights.h5\n",
      "\n",
      "Epoch 2: saving model to model_1\\KERAS_check_model_last.h5\n",
      "\n",
      "Epoch 2: saving model to model_1\\KERAS_check_model_last_weights.h5\n",
      "\n",
      "***callbacks end***\n",
      "\n",
      "487/487 [==============================] - 1s 2ms/step - loss: 0.7597 - accuracy: 0.7514 - val_loss: 0.7569 - val_accuracy: 0.7525 - lr: 0.0010\n",
      "Epoch 3/30\n",
      "483/487 [============================>.] - ETA: 0s - loss: 0.7485 - accuracy: 0.7541\n",
      "***callbacks***\n",
      "saving losses to model_1\\losses.log\n",
      "\n",
      "Epoch 3: val_loss improved from 0.75686 to 0.75178, saving model to model_1\\KERAS_check_best_model.h5\n",
      "\n",
      "Epoch 3: val_loss improved from 0.75686 to 0.75178, saving model to model_1\\KERAS_check_best_model_weights.h5\n",
      "\n",
      "Epoch 3: saving model to model_1\\KERAS_check_model_last.h5\n",
      "\n",
      "Epoch 3: saving model to model_1\\KERAS_check_model_last_weights.h5\n",
      "\n",
      "***callbacks end***\n",
      "\n",
      "487/487 [==============================] - 1s 2ms/step - loss: 0.7485 - accuracy: 0.7541 - val_loss: 0.7518 - val_accuracy: 0.7528 - lr: 0.0010\n",
      "Epoch 4/30\n",
      "462/487 [===========================>..] - ETA: 0s - loss: 0.7397 - accuracy: 0.7561\n",
      "***callbacks***\n",
      "saving losses to model_1\\losses.log\n",
      "\n",
      "Epoch 4: val_loss improved from 0.75178 to 0.74002, saving model to model_1\\KERAS_check_best_model.h5\n",
      "\n",
      "Epoch 4: val_loss improved from 0.75178 to 0.74002, saving model to model_1\\KERAS_check_best_model_weights.h5\n",
      "\n",
      "Epoch 4: saving model to model_1\\KERAS_check_model_last.h5\n",
      "\n",
      "Epoch 4: saving model to model_1\\KERAS_check_model_last_weights.h5\n",
      "\n",
      "***callbacks end***\n",
      "\n",
      "487/487 [==============================] - 1s 2ms/step - loss: 0.7398 - accuracy: 0.7562 - val_loss: 0.7400 - val_accuracy: 0.7559 - lr: 0.0010\n",
      "Epoch 5/30\n",
      "476/487 [============================>.] - ETA: 0s - loss: 0.7327 - accuracy: 0.7578\n",
      "***callbacks***\n",
      "saving losses to model_1\\losses.log\n",
      "\n",
      "Epoch 5: val_loss improved from 0.74002 to 0.73443, saving model to model_1\\KERAS_check_best_model.h5\n",
      "\n",
      "Epoch 5: val_loss improved from 0.74002 to 0.73443, saving model to model_1\\KERAS_check_best_model_weights.h5\n",
      "\n",
      "Epoch 5: saving model to model_1\\KERAS_check_model_last.h5\n",
      "\n",
      "Epoch 5: saving model to model_1\\KERAS_check_model_last_weights.h5\n",
      "\n",
      "***callbacks end***\n",
      "\n",
      "487/487 [==============================] - 1s 2ms/step - loss: 0.7326 - accuracy: 0.7578 - val_loss: 0.7344 - val_accuracy: 0.7573 - lr: 0.0010\n",
      "Epoch 6/30\n",
      "485/487 [============================>.] - ETA: 0s - loss: 0.7274 - accuracy: 0.7590\n",
      "***callbacks***\n",
      "saving losses to model_1\\losses.log\n",
      "\n",
      "Epoch 6: val_loss improved from 0.73443 to 0.72963, saving model to model_1\\KERAS_check_best_model.h5\n",
      "\n",
      "Epoch 6: val_loss improved from 0.73443 to 0.72963, saving model to model_1\\KERAS_check_best_model_weights.h5\n",
      "\n",
      "Epoch 6: saving model to model_1\\KERAS_check_model_last.h5\n",
      "\n",
      "Epoch 6: saving model to model_1\\KERAS_check_model_last_weights.h5\n",
      "\n",
      "***callbacks end***\n",
      "\n",
      "487/487 [==============================] - 1s 2ms/step - loss: 0.7274 - accuracy: 0.7591 - val_loss: 0.7296 - val_accuracy: 0.7587 - lr: 0.0010\n",
      "Epoch 7/30\n",
      "481/487 [============================>.] - ETA: 0s - loss: 0.7231 - accuracy: 0.7598\n",
      "***callbacks***\n",
      "saving losses to model_1\\losses.log\n",
      "\n",
      "Epoch 7: val_loss improved from 0.72963 to 0.72406, saving model to model_1\\KERAS_check_best_model.h5\n",
      "\n",
      "Epoch 7: val_loss improved from 0.72963 to 0.72406, saving model to model_1\\KERAS_check_best_model_weights.h5\n",
      "\n",
      "Epoch 7: saving model to model_1\\KERAS_check_model_last.h5\n",
      "\n",
      "Epoch 7: saving model to model_1\\KERAS_check_model_last_weights.h5\n",
      "\n",
      "***callbacks end***\n",
      "\n",
      "487/487 [==============================] - 1s 2ms/step - loss: 0.7230 - accuracy: 0.7599 - val_loss: 0.7241 - val_accuracy: 0.7590 - lr: 0.0010\n",
      "Epoch 8/30\n",
      "462/487 [===========================>..] - ETA: 0s - loss: 0.7200 - accuracy: 0.7607\n",
      "***callbacks***\n",
      "saving losses to model_1\\losses.log\n",
      "\n",
      "Epoch 8: val_loss improved from 0.72406 to 0.72319, saving model to model_1\\KERAS_check_best_model.h5\n",
      "\n",
      "Epoch 8: val_loss improved from 0.72406 to 0.72319, saving model to model_1\\KERAS_check_best_model_weights.h5\n",
      "\n",
      "Epoch 8: saving model to model_1\\KERAS_check_model_last.h5\n",
      "\n",
      "Epoch 8: saving model to model_1\\KERAS_check_model_last_weights.h5\n",
      "\n",
      "***callbacks end***\n",
      "\n",
      "487/487 [==============================] - 1s 2ms/step - loss: 0.7193 - accuracy: 0.7611 - val_loss: 0.7232 - val_accuracy: 0.7600 - lr: 0.0010\n",
      "Epoch 9/30\n",
      "486/487 [============================>.] - ETA: 0s - loss: 0.7156 - accuracy: 0.7618\n",
      "***callbacks***\n",
      "saving losses to model_1\\losses.log\n",
      "\n",
      "Epoch 9: val_loss improved from 0.72319 to 0.71810, saving model to model_1\\KERAS_check_best_model.h5\n",
      "\n",
      "Epoch 9: val_loss improved from 0.72319 to 0.71810, saving model to model_1\\KERAS_check_best_model_weights.h5\n",
      "\n",
      "Epoch 9: saving model to model_1\\KERAS_check_model_last.h5\n",
      "\n",
      "Epoch 9: saving model to model_1\\KERAS_check_model_last_weights.h5\n",
      "\n",
      "***callbacks end***\n",
      "\n",
      "487/487 [==============================] - 1s 2ms/step - loss: 0.7156 - accuracy: 0.7618 - val_loss: 0.7181 - val_accuracy: 0.7607 - lr: 0.0010\n",
      "Epoch 10/30\n",
      "465/487 [===========================>..] - ETA: 0s - loss: 0.7127 - accuracy: 0.7627\n",
      "***callbacks***\n",
      "saving losses to model_1\\losses.log\n",
      "\n",
      "Epoch 10: val_loss did not improve from 0.71810\n",
      "\n",
      "Epoch 10: val_loss did not improve from 0.71810\n",
      "\n",
      "Epoch 10: saving model to model_1\\KERAS_check_model_last.h5\n",
      "\n",
      "Epoch 10: saving model to model_1\\KERAS_check_model_last_weights.h5\n",
      "\n",
      "Epoch 10: saving model to model_1\\KERAS_check_model_epoch10.h5\n",
      "\n",
      "***callbacks end***\n",
      "\n",
      "487/487 [==============================] - 1s 2ms/step - loss: 0.7132 - accuracy: 0.7624 - val_loss: 0.7193 - val_accuracy: 0.7603 - lr: 0.0010\n",
      "Epoch 11/30\n",
      "472/487 [============================>.] - ETA: 0s - loss: 0.7112 - accuracy: 0.7629\n",
      "***callbacks***\n",
      "saving losses to model_1\\losses.log\n",
      "\n",
      "Epoch 11: val_loss improved from 0.71810 to 0.71447, saving model to model_1\\KERAS_check_best_model.h5\n",
      "\n",
      "Epoch 11: val_loss improved from 0.71810 to 0.71447, saving model to model_1\\KERAS_check_best_model_weights.h5\n",
      "\n",
      "Epoch 11: saving model to model_1\\KERAS_check_model_last.h5\n",
      "\n",
      "Epoch 11: saving model to model_1\\KERAS_check_model_last_weights.h5\n",
      "\n",
      "***callbacks end***\n",
      "\n",
      "487/487 [==============================] - 1s 2ms/step - loss: 0.7108 - accuracy: 0.7629 - val_loss: 0.7145 - val_accuracy: 0.7622 - lr: 0.0010\n",
      "Epoch 12/30\n",
      "460/487 [===========================>..] - ETA: 0s - loss: 0.7084 - accuracy: 0.7636\n",
      "***callbacks***\n",
      "saving losses to model_1\\losses.log\n",
      "\n",
      "Epoch 12: val_loss improved from 0.71447 to 0.71166, saving model to model_1\\KERAS_check_best_model.h5\n",
      "\n",
      "Epoch 12: val_loss improved from 0.71447 to 0.71166, saving model to model_1\\KERAS_check_best_model_weights.h5\n",
      "\n",
      "Epoch 12: saving model to model_1\\KERAS_check_model_last.h5\n",
      "\n",
      "Epoch 12: saving model to model_1\\KERAS_check_model_last_weights.h5\n",
      "\n",
      "***callbacks end***\n",
      "\n",
      "487/487 [==============================] - 1s 2ms/step - loss: 0.7084 - accuracy: 0.7636 - val_loss: 0.7117 - val_accuracy: 0.7624 - lr: 0.0010\n",
      "Epoch 13/30\n",
      "466/487 [===========================>..] - ETA: 0s - loss: 0.7062 - accuracy: 0.7642\n",
      "***callbacks***\n",
      "saving losses to model_1\\losses.log\n",
      "\n",
      "Epoch 13: val_loss improved from 0.71166 to 0.71009, saving model to model_1\\KERAS_check_best_model.h5\n",
      "\n",
      "Epoch 13: val_loss improved from 0.71166 to 0.71009, saving model to model_1\\KERAS_check_best_model_weights.h5\n",
      "\n",
      "Epoch 13: saving model to model_1\\KERAS_check_model_last.h5\n",
      "\n",
      "Epoch 13: saving model to model_1\\KERAS_check_model_last_weights.h5\n",
      "\n",
      "***callbacks end***\n",
      "\n",
      "487/487 [==============================] - 1s 2ms/step - loss: 0.7060 - accuracy: 0.7642 - val_loss: 0.7101 - val_accuracy: 0.7630 - lr: 0.0010\n",
      "Epoch 14/30\n",
      "466/487 [===========================>..] - ETA: 0s - loss: 0.7044 - accuracy: 0.7640\n",
      "***callbacks***\n",
      "saving losses to model_1\\losses.log\n",
      "\n",
      "Epoch 14: val_loss improved from 0.71009 to 0.70814, saving model to model_1\\KERAS_check_best_model.h5\n",
      "\n",
      "Epoch 14: val_loss improved from 0.71009 to 0.70814, saving model to model_1\\KERAS_check_best_model_weights.h5\n",
      "\n",
      "Epoch 14: saving model to model_1\\KERAS_check_model_last.h5\n",
      "\n",
      "Epoch 14: saving model to model_1\\KERAS_check_model_last_weights.h5\n",
      "\n",
      "***callbacks end***\n",
      "\n",
      "487/487 [==============================] - 1s 2ms/step - loss: 0.7042 - accuracy: 0.7641 - val_loss: 0.7081 - val_accuracy: 0.7629 - lr: 0.0010\n",
      "Epoch 15/30\n",
      "480/487 [============================>.] - ETA: 0s - loss: 0.7030 - accuracy: 0.7644\n",
      "***callbacks***\n",
      "saving losses to model_1\\losses.log\n",
      "\n",
      "Epoch 15: val_loss improved from 0.70814 to 0.70655, saving model to model_1\\KERAS_check_best_model.h5\n",
      "\n",
      "Epoch 15: val_loss improved from 0.70814 to 0.70655, saving model to model_1\\KERAS_check_best_model_weights.h5\n",
      "\n",
      "Epoch 15: saving model to model_1\\KERAS_check_model_last.h5\n",
      "\n",
      "Epoch 15: saving model to model_1\\KERAS_check_model_last_weights.h5\n",
      "\n",
      "***callbacks end***\n",
      "\n",
      "487/487 [==============================] - 1s 2ms/step - loss: 0.7028 - accuracy: 0.7645 - val_loss: 0.7066 - val_accuracy: 0.7631 - lr: 0.0010\n",
      "Epoch 16/30\n",
      "481/487 [============================>.] - ETA: 0s - loss: 0.7008 - accuracy: 0.7648\n",
      "***callbacks***\n",
      "saving losses to model_1\\losses.log\n",
      "\n",
      "Epoch 16: val_loss did not improve from 0.70655\n",
      "\n",
      "Epoch 16: val_loss did not improve from 0.70655\n",
      "\n",
      "Epoch 16: saving model to model_1\\KERAS_check_model_last.h5\n",
      "\n",
      "Epoch 16: saving model to model_1\\KERAS_check_model_last_weights.h5\n",
      "\n",
      "***callbacks end***\n",
      "\n",
      "487/487 [==============================] - 1s 2ms/step - loss: 0.7008 - accuracy: 0.7649 - val_loss: 0.7082 - val_accuracy: 0.7627 - lr: 0.0010\n",
      "Epoch 17/30\n",
      "480/487 [============================>.] - ETA: 0s - loss: 0.6996 - accuracy: 0.7651\n",
      "***callbacks***\n",
      "saving losses to model_1\\losses.log\n",
      "\n",
      "Epoch 17: val_loss improved from 0.70655 to 0.70373, saving model to model_1\\KERAS_check_best_model.h5\n",
      "\n",
      "Epoch 17: val_loss improved from 0.70655 to 0.70373, saving model to model_1\\KERAS_check_best_model_weights.h5\n",
      "\n",
      "Epoch 17: saving model to model_1\\KERAS_check_model_last.h5\n",
      "\n",
      "Epoch 17: saving model to model_1\\KERAS_check_model_last_weights.h5\n",
      "\n",
      "***callbacks end***\n",
      "\n",
      "487/487 [==============================] - 1s 2ms/step - loss: 0.6998 - accuracy: 0.7651 - val_loss: 0.7037 - val_accuracy: 0.7636 - lr: 0.0010\n",
      "Epoch 18/30\n",
      "476/487 [============================>.] - ETA: 0s - loss: 0.6977 - accuracy: 0.7656\n",
      "***callbacks***\n",
      "saving losses to model_1\\losses.log\n",
      "\n",
      "Epoch 18: val_loss did not improve from 0.70373\n",
      "\n",
      "Epoch 18: val_loss did not improve from 0.70373\n",
      "\n",
      "Epoch 18: saving model to model_1\\KERAS_check_model_last.h5\n",
      "\n",
      "Epoch 18: saving model to model_1\\KERAS_check_model_last_weights.h5\n",
      "\n",
      "***callbacks end***\n",
      "\n",
      "487/487 [==============================] - 1s 2ms/step - loss: 0.6980 - accuracy: 0.7655 - val_loss: 0.7041 - val_accuracy: 0.7632 - lr: 0.0010\n",
      "Epoch 19/30\n",
      "469/487 [===========================>..] - ETA: 0s - loss: 0.6976 - accuracy: 0.7654\n",
      "***callbacks***\n",
      "saving losses to model_1\\losses.log\n",
      "\n",
      "Epoch 19: val_loss improved from 0.70373 to 0.70147, saving model to model_1\\KERAS_check_best_model.h5\n",
      "\n",
      "Epoch 19: val_loss improved from 0.70373 to 0.70147, saving model to model_1\\KERAS_check_best_model_weights.h5\n",
      "\n",
      "Epoch 19: saving model to model_1\\KERAS_check_model_last.h5\n",
      "\n",
      "Epoch 19: saving model to model_1\\KERAS_check_model_last_weights.h5\n",
      "\n",
      "***callbacks end***\n",
      "\n",
      "487/487 [==============================] - 1s 2ms/step - loss: 0.6972 - accuracy: 0.7655 - val_loss: 0.7015 - val_accuracy: 0.7640 - lr: 0.0010\n",
      "Epoch 20/30\n",
      "465/487 [===========================>..] - ETA: 0s - loss: 0.6958 - accuracy: 0.7658\n",
      "***callbacks***\n",
      "saving losses to model_1\\losses.log\n",
      "\n",
      "Epoch 20: val_loss improved from 0.70147 to 0.70055, saving model to model_1\\KERAS_check_best_model.h5\n",
      "\n",
      "Epoch 20: val_loss improved from 0.70147 to 0.70055, saving model to model_1\\KERAS_check_best_model_weights.h5\n",
      "\n",
      "Epoch 20: saving model to model_1\\KERAS_check_model_last.h5\n",
      "\n",
      "Epoch 20: saving model to model_1\\KERAS_check_model_last_weights.h5\n",
      "\n",
      "Epoch 20: saving model to model_1\\KERAS_check_model_epoch20.h5\n",
      "\n",
      "***callbacks end***\n",
      "\n",
      "487/487 [==============================] - 1s 2ms/step - loss: 0.6958 - accuracy: 0.7658 - val_loss: 0.7006 - val_accuracy: 0.7642 - lr: 0.0010\n",
      "Epoch 21/30\n",
      "485/487 [============================>.] - ETA: 0s - loss: 0.6947 - accuracy: 0.7659\n",
      "***callbacks***\n",
      "saving losses to model_1\\losses.log\n",
      "\n",
      "Epoch 21: val_loss did not improve from 0.70055\n",
      "\n",
      "Epoch 21: val_loss did not improve from 0.70055\n",
      "\n",
      "Epoch 21: saving model to model_1\\KERAS_check_model_last.h5\n",
      "\n",
      "Epoch 21: saving model to model_1\\KERAS_check_model_last_weights.h5\n",
      "\n",
      "***callbacks end***\n",
      "\n",
      "487/487 [==============================] - 1s 2ms/step - loss: 0.6947 - accuracy: 0.7659 - val_loss: 0.7019 - val_accuracy: 0.7633 - lr: 0.0010\n",
      "Epoch 22/30\n",
      "486/487 [============================>.] - ETA: 0s - loss: 0.6940 - accuracy: 0.7659\n",
      "***callbacks***\n",
      "saving losses to model_1\\losses.log\n",
      "\n",
      "Epoch 22: val_loss improved from 0.70055 to 0.69797, saving model to model_1\\KERAS_check_best_model.h5\n",
      "\n",
      "Epoch 22: val_loss improved from 0.70055 to 0.69797, saving model to model_1\\KERAS_check_best_model_weights.h5\n",
      "\n",
      "Epoch 22: saving model to model_1\\KERAS_check_model_last.h5\n",
      "\n",
      "Epoch 22: saving model to model_1\\KERAS_check_model_last_weights.h5\n",
      "\n",
      "***callbacks end***\n",
      "\n",
      "487/487 [==============================] - 1s 2ms/step - loss: 0.6939 - accuracy: 0.7659 - val_loss: 0.6980 - val_accuracy: 0.7648 - lr: 0.0010\n",
      "Epoch 23/30\n",
      "467/487 [===========================>..] - ETA: 0s - loss: 0.6934 - accuracy: 0.7661\n",
      "***callbacks***\n",
      "saving losses to model_1\\losses.log\n",
      "\n",
      "Epoch 23: val_loss did not improve from 0.69797\n",
      "\n",
      "Epoch 23: val_loss did not improve from 0.69797\n",
      "\n",
      "Epoch 23: saving model to model_1\\KERAS_check_model_last.h5\n",
      "\n",
      "Epoch 23: saving model to model_1\\KERAS_check_model_last_weights.h5\n",
      "\n",
      "***callbacks end***\n",
      "\n",
      "487/487 [==============================] - 1s 2ms/step - loss: 0.6932 - accuracy: 0.7662 - val_loss: 0.6992 - val_accuracy: 0.7643 - lr: 0.0010\n",
      "Epoch 24/30\n",
      "470/487 [===========================>..] - ETA: 0s - loss: 0.6920 - accuracy: 0.7664\n",
      "***callbacks***\n",
      "saving losses to model_1\\losses.log\n",
      "\n",
      "Epoch 24: val_loss did not improve from 0.69797\n",
      "\n",
      "Epoch 24: val_loss did not improve from 0.69797\n",
      "\n",
      "Epoch 24: saving model to model_1\\KERAS_check_model_last.h5\n",
      "\n",
      "Epoch 24: saving model to model_1\\KERAS_check_model_last_weights.h5\n",
      "\n",
      "***callbacks end***\n",
      "\n",
      "487/487 [==============================] - 1s 2ms/step - loss: 0.6922 - accuracy: 0.7663 - val_loss: 0.6988 - val_accuracy: 0.7648 - lr: 0.0010\n",
      "Epoch 25/30\n",
      "475/487 [============================>.] - ETA: 0s - loss: 0.6912 - accuracy: 0.7660\n",
      "***callbacks***\n",
      "saving losses to model_1\\losses.log\n",
      "\n",
      "Epoch 25: val_loss improved from 0.69797 to 0.69767, saving model to model_1\\KERAS_check_best_model.h5\n",
      "\n",
      "Epoch 25: val_loss improved from 0.69797 to 0.69767, saving model to model_1\\KERAS_check_best_model_weights.h5\n",
      "\n",
      "Epoch 25: saving model to model_1\\KERAS_check_model_last.h5\n",
      "\n",
      "Epoch 25: saving model to model_1\\KERAS_check_model_last_weights.h5\n",
      "\n",
      "***callbacks end***\n",
      "\n",
      "487/487 [==============================] - 1s 2ms/step - loss: 0.6912 - accuracy: 0.7660 - val_loss: 0.6977 - val_accuracy: 0.7636 - lr: 0.0010\n",
      "Epoch 26/30\n",
      "476/487 [============================>.] - ETA: 0s - loss: 0.6910 - accuracy: 0.7665\n",
      "***callbacks***\n",
      "saving losses to model_1\\losses.log\n",
      "\n",
      "Epoch 26: val_loss improved from 0.69767 to 0.69610, saving model to model_1\\KERAS_check_best_model.h5\n",
      "\n",
      "Epoch 26: val_loss improved from 0.69767 to 0.69610, saving model to model_1\\KERAS_check_best_model_weights.h5\n",
      "\n",
      "Epoch 26: saving model to model_1\\KERAS_check_model_last.h5\n",
      "\n",
      "Epoch 26: saving model to model_1\\KERAS_check_model_last_weights.h5\n",
      "\n",
      "***callbacks end***\n",
      "\n",
      "487/487 [==============================] - 1s 2ms/step - loss: 0.6912 - accuracy: 0.7665 - val_loss: 0.6961 - val_accuracy: 0.7651 - lr: 0.0010\n",
      "Epoch 27/30\n",
      "475/487 [============================>.] - ETA: 0s - loss: 0.6897 - accuracy: 0.7665\n",
      "***callbacks***\n",
      "saving losses to model_1\\losses.log\n",
      "\n",
      "Epoch 27: val_loss improved from 0.69610 to 0.69528, saving model to model_1\\KERAS_check_best_model.h5\n",
      "\n",
      "Epoch 27: val_loss improved from 0.69610 to 0.69528, saving model to model_1\\KERAS_check_best_model_weights.h5\n",
      "\n",
      "Epoch 27: saving model to model_1\\KERAS_check_model_last.h5\n",
      "\n",
      "Epoch 27: saving model to model_1\\KERAS_check_model_last_weights.h5\n",
      "\n",
      "***callbacks end***\n",
      "\n",
      "487/487 [==============================] - 1s 2ms/step - loss: 0.6894 - accuracy: 0.7667 - val_loss: 0.6953 - val_accuracy: 0.7655 - lr: 0.0010\n",
      "Epoch 28/30\n",
      "482/487 [============================>.] - ETA: 0s - loss: 0.6891 - accuracy: 0.7667\n",
      "***callbacks***\n",
      "saving losses to model_1\\losses.log\n",
      "\n",
      "Epoch 28: val_loss improved from 0.69528 to 0.69450, saving model to model_1\\KERAS_check_best_model.h5\n",
      "\n",
      "Epoch 28: val_loss improved from 0.69528 to 0.69450, saving model to model_1\\KERAS_check_best_model_weights.h5\n",
      "\n",
      "Epoch 28: saving model to model_1\\KERAS_check_model_last.h5\n",
      "\n",
      "Epoch 28: saving model to model_1\\KERAS_check_model_last_weights.h5\n",
      "\n",
      "***callbacks end***\n",
      "\n",
      "487/487 [==============================] - 1s 2ms/step - loss: 0.6893 - accuracy: 0.7666 - val_loss: 0.6945 - val_accuracy: 0.7656 - lr: 0.0010\n",
      "Epoch 29/30\n",
      "475/487 [============================>.] - ETA: 0s - loss: 0.6886 - accuracy: 0.7669\n",
      "***callbacks***\n",
      "saving losses to model_1\\losses.log\n",
      "\n",
      "Epoch 29: val_loss did not improve from 0.69450\n",
      "\n",
      "Epoch 29: val_loss did not improve from 0.69450\n",
      "\n",
      "Epoch 29: saving model to model_1\\KERAS_check_model_last.h5\n",
      "\n",
      "Epoch 29: saving model to model_1\\KERAS_check_model_last_weights.h5\n",
      "\n",
      "***callbacks end***\n",
      "\n",
      "487/487 [==============================] - 1s 2ms/step - loss: 0.6887 - accuracy: 0.7668 - val_loss: 0.6954 - val_accuracy: 0.7642 - lr: 0.0010\n",
      "Epoch 30/30\n",
      "471/487 [============================>.] - ETA: 0s - loss: 0.6885 - accuracy: 0.7667\n",
      "***callbacks***\n",
      "saving losses to model_1\\losses.log\n",
      "\n",
      "Epoch 30: val_loss did not improve from 0.69450\n",
      "\n",
      "Epoch 30: val_loss did not improve from 0.69450\n",
      "\n",
      "Epoch 30: saving model to model_1\\KERAS_check_model_last.h5\n",
      "\n",
      "Epoch 30: saving model to model_1\\KERAS_check_model_last_weights.h5\n",
      "\n",
      "Epoch 30: saving model to model_1\\KERAS_check_model_epoch30.h5\n",
      "\n",
      "***callbacks end***\n",
      "\n",
      "487/487 [==============================] - 1s 2ms/step - loss: 0.6881 - accuracy: 0.7668 - val_loss: 0.6956 - val_accuracy: 0.7644 - lr: 0.0010\n"
     ]
    }
   ],
   "source": [
    "train = True\n",
    "if train:\n",
    "    adam = Adam(lr=0.0001)\n",
    "    model.compile(optimizer=adam, loss=['categorical_crossentropy'], metrics=['accuracy'])\n",
    "    callbacks = all_callbacks(\n",
    "        stop_patience=1000,\n",
    "        lr_factor=0.5,\n",
    "        lr_patience=10,\n",
    "        lr_epsilon=0.000001,\n",
    "        lr_cooldown=2,\n",
    "        lr_minimum=0.0000001,\n",
    "        outputDir='model_1',\n",
    "    )\n",
    "    model.fit(\n",
    "        X_train_val,\n",
    "        y_train_val,\n",
    "        batch_size=1024,\n",
    "        epochs=30,\n",
    "        validation_split=0.25,\n",
    "        shuffle=True,\n",
    "        callbacks=callbacks.callbacks,\n",
    "    )\n",
    "else:\n",
    "    from keras.models import load_model\n",
    "\n",
    "    model = load_model('model_1/KERAS_check_best_model.h5')"
   ]
  },
  {
   "cell_type": "markdown",
   "metadata": {},
   "source": [
    "## Check performance\n",
    "Check the accuracy and make a ROC curve"
   ]
  },
  {
   "cell_type": "code",
   "execution_count": 11,
   "metadata": {},
   "outputs": [
    {
     "name": "stdout",
     "output_type": "stream",
     "text": [
      "5188/5188 [==============================] - 3s 617us/step\n",
      "Accuracy: 0.7631084337349398\n"
     ]
    },
    {
     "data": {
      "image/png": "[encoded data removed]",
      "text/plain": [
       "<Figure size 900x900 with 1 Axes>"
      ]
     },
     "metadata": {},
     "output_type": "display_data"
    }
   ],
   "source": [
    "import plotting\n",
    "import matplotlib.pyplot as plt\n",
    "from sklearn.metrics import accuracy_score\n",
    "\n",
    "y_keras = model.predict(X_test)\n",
    "print(\"Accuracy: {}\".format(accuracy_score(np.argmax(y_test, axis=1), np.argmax(y_keras, axis=1))))\n",
    "plt.figure(figsize=(9, 9))\n",
    "_ = plotting.makeRoc(y_test, y_keras, le.classes_)"
   ]
  },
  {
   "attachments": {},
   "cell_type": "markdown",
   "metadata": {},
   "source": [
    "## Convert the model to FPGA firmware with hls4ml\n",
    "Now we will go through the steps to convert the model we trained to a low-latency optimized FPGA firmware with hls4ml.\n",
    "First, we will evaluate its classification performance to make sure we haven't lost accuracy using the fixed-point data types. \n",
    "Then we will synthesize the model with Vivado HLS and check the metrics of latency and FPGA resource usage.\n",
    "\n",
    "### Make an hls4ml config & model\n",
    "The hls4ml Neural Network inference library is controlled through a configuration dictionary.\n",
    "In this example we'll use the most simple variation, later exercises will look at more advanced configuration."
   ]
  },
  {
   "cell_type": "code",
   "execution_count": 22,
   "metadata": {},
   "outputs": [
    {
     "name": "stdout",
     "output_type": "stream",
     "text": [
      "Interpreting Sequential\n",
      "Topology:\n",
      "Layer name: fc1_input, layer type: InputLayer, input shapes: [[None, 16]], output shape: [None, 16]\n",
      "Layer name: fc1, layer type: Dense, input shapes: [[None, 16]], output shape: [None, 64]\n",
      "Layer name: relu1, layer type: Activation, input shapes: [[None, 64]], output shape: [None, 64]\n",
      "Layer name: fc2, layer type: Dense, input shapes: [[None, 64]], output shape: [None, 32]\n",
      "Layer name: relu2, layer type: Activation, input shapes: [[None, 32]], output shape: [None, 32]\n",
      "Layer name: fc3, layer type: Dense, input shapes: [[None, 32]], output shape: [None, 32]\n",
      "Layer name: relu3, layer type: Activation, input shapes: [[None, 32]], output shape: [None, 32]\n",
      "Layer name: output, layer type: Dense, input shapes: [[None, 32]], output shape: [None, 5]\n",
      "Layer name: softmax, layer type: Softmax, input shapes: [[None, 5]], output shape: [None, 5]\n",
      "-----------------------------------\n",
      "Configuration\n",
      "Model\n",
      "  Precision:         fixed<16,6>\n",
      "  ReuseFactor:       1\n",
      "  Strategy:          Latency\n",
      "  BramFactor:        1000000000\n",
      "  TraceOutput:       False\n",
      "-----------------------------------\n",
      "Interpreting Sequential\n",
      "Topology:\n",
      "Layer name: fc1_input, layer type: InputLayer, input shapes: [[None, 16]], output shape: [None, 16]\n",
      "Layer name: fc1, layer type: Dense, input shapes: [[None, 16]], output shape: [None, 64]\n",
      "Layer name: relu1, layer type: Activation, input shapes: [[None, 64]], output shape: [None, 64]\n",
      "Layer name: fc2, layer type: Dense, input shapes: [[None, 64]], output shape: [None, 32]\n",
      "Layer name: relu2, layer type: Activation, input shapes: [[None, 32]], output shape: [None, 32]\n",
      "Layer name: fc3, layer type: Dense, input shapes: [[None, 32]], output shape: [None, 32]\n",
      "Layer name: relu3, layer type: Activation, input shapes: [[None, 32]], output shape: [None, 32]\n",
      "Layer name: output, layer type: Dense, input shapes: [[None, 32]], output shape: [None, 5]\n",
      "Layer name: softmax, layer type: Softmax, input shapes: [[None, 5]], output shape: [None, 5]\n",
      "Creating HLS model\n"
     ]
    }
   ],
   "source": [
    "import hls4ml\n",
    "\n",
    "config = hls4ml.utils.config_from_keras_model(model, granularity='model')\n",
    "print(\"-----------------------------------\")\n",
    "print(\"Configuration\")\n",
    "plotting.print_dict(config)\n",
    "print(\"-----------------------------------\")\n",
    "hls_model = hls4ml.converters.convert_from_keras_model(\n",
    "    model, hls_config=config, output_dir='model_1/hls4ml_prj', part='xcu250-figd2104-2L-e'\n",
    ")"
   ]
  },
  {
   "cell_type": "markdown",
   "metadata": {},
   "source": [
    "Let's visualise what we created. The model architecture is shown, annotated with the shape and data types"
   ]
  },
  {
   "cell_type": "code",
   "execution_count": 13,
   "metadata": {},
   "outputs": [
    {
     "name": "stdout",
     "output_type": "stream",
     "text": [
      "Failed to import pydot. You must install pydot and graphviz for `pydotprint` to work.\n"
     ]
    }
   ],
   "source": [
    "hls4ml.utils.plot_model(hls_model, show_shapes=True, show_precision=True, to_file=None)"
   ]
  },
  {
   "cell_type": "markdown",
   "metadata": {},
   "source": [
    "## Compile, predict\n",
    "Now we need to check that this model performance is still good. We compile the hls_model, and then use `hls_model.predict` to execute the FPGA firmware with bit-accurate emulation on the CPU."
   ]
  },
  {
   "cell_type": "code",
   "execution_count": 23,
   "metadata": {},
   "outputs": [
    {
     "name": "stdout",
     "output_type": "stream",
     "text": [
      "Writing HLS project\n",
      "Done\n"
     ]
    },
    {
     "ename": "Exception",
     "evalue": "Failed to compile project \"myproject\"",
     "output_type": "error",
     "traceback": [
      "\u001b[1;31m---------------------------------------------------------------------------\u001b[0m",
      "\u001b[1;31mException\u001b[0m                                 Traceback (most recent call last)",
      "Cell \u001b[1;32mIn[23], line 1\u001b[0m\n\u001b[1;32m----> 1\u001b[0m \u001b[43mhls_model\u001b[49m\u001b[38;5;241;43m.\u001b[39;49m\u001b[43mcompile\u001b[49m\u001b[43m(\u001b[49m\u001b[43m)\u001b[49m\n",
      "File \u001b[1;32mc:\\Users\\dhruv\\AppData\\Local\\Programs\\Python\\Python39\\lib\\site-packages\\hls4ml\\model\\graph.py:662\u001b[0m, in \u001b[0;36mModelGraph.compile\u001b[1;34m(self)\u001b[0m\n\u001b[0;32m    657\u001b[0m \u001b[38;5;250m\u001b[39m\u001b[38;5;124;03m\"\"\"Compile the generated project and link the library into current environment.\u001b[39;00m\n\u001b[0;32m    658\u001b[0m \n\u001b[0;32m    659\u001b[0m \u001b[38;5;124;03mUsers should call this function if they want to use `predict` functionality for simulation.\u001b[39;00m\n\u001b[0;32m    660\u001b[0m \u001b[38;5;124;03m\"\"\"\u001b[39;00m\n\u001b[0;32m    661\u001b[0m \u001b[38;5;28mself\u001b[39m\u001b[38;5;241m.\u001b[39mwrite()\n\u001b[1;32m--> 662\u001b[0m \u001b[38;5;28;43mself\u001b[39;49m\u001b[38;5;241;43m.\u001b[39;49m\u001b[43m_compile\u001b[49m\u001b[43m(\u001b[49m\u001b[43m)\u001b[49m\n",
      "File \u001b[1;32mc:\\Users\\dhruv\\AppData\\Local\\Programs\\Python\\Python39\\lib\\site-packages\\hls4ml\\model\\graph.py:665\u001b[0m, in \u001b[0;36mModelGraph._compile\u001b[1;34m(self)\u001b[0m\n\u001b[0;32m    664\u001b[0m \u001b[38;5;28;01mdef\u001b[39;00m \u001b[38;5;21m_compile\u001b[39m(\u001b[38;5;28mself\u001b[39m):\n\u001b[1;32m--> 665\u001b[0m     lib_name \u001b[38;5;241m=\u001b[39m \u001b[38;5;28;43mself\u001b[39;49m\u001b[38;5;241;43m.\u001b[39;49m\u001b[43mconfig\u001b[49m\u001b[38;5;241;43m.\u001b[39;49m\u001b[43mbackend\u001b[49m\u001b[38;5;241;43m.\u001b[39;49m\u001b[43mcompile\u001b[49m\u001b[43m(\u001b[49m\u001b[38;5;28;43mself\u001b[39;49m\u001b[43m)\u001b[49m\n\u001b[0;32m    666\u001b[0m     \u001b[38;5;28;01mif\u001b[39;00m \u001b[38;5;28mself\u001b[39m\u001b[38;5;241m.\u001b[39m_top_function_lib \u001b[38;5;129;01mis\u001b[39;00m \u001b[38;5;129;01mnot\u001b[39;00m \u001b[38;5;28;01mNone\u001b[39;00m:\n\u001b[0;32m    667\u001b[0m         \u001b[38;5;28;01mif\u001b[39;00m platform\u001b[38;5;241m.\u001b[39msystem() \u001b[38;5;241m==\u001b[39m \u001b[38;5;124m\"\u001b[39m\u001b[38;5;124mLinux\u001b[39m\u001b[38;5;124m\"\u001b[39m:\n",
      "File \u001b[1;32mc:\\Users\\dhruv\\AppData\\Local\\Programs\\Python\\Python39\\lib\\site-packages\\hls4ml\\backends\\fpga\\fpga_backend.py:131\u001b[0m, in \u001b[0;36mFPGABackend.compile\u001b[1;34m(self, model)\u001b[0m\n\u001b[0;32m    129\u001b[0m     ret_val \u001b[38;5;241m=\u001b[39m os\u001b[38;5;241m.\u001b[39msystem(\u001b[38;5;124m'\u001b[39m\u001b[38;5;124mbash build_lib.sh\u001b[39m\u001b[38;5;124m'\u001b[39m)\n\u001b[0;32m    130\u001b[0m     \u001b[38;5;28;01mif\u001b[39;00m ret_val \u001b[38;5;241m!=\u001b[39m \u001b[38;5;241m0\u001b[39m:\n\u001b[1;32m--> 131\u001b[0m         \u001b[38;5;28;01mraise\u001b[39;00m \u001b[38;5;167;01mException\u001b[39;00m(\u001b[38;5;124mf\u001b[39m\u001b[38;5;124m'\u001b[39m\u001b[38;5;124mFailed to compile project \u001b[39m\u001b[38;5;124m\"\u001b[39m\u001b[38;5;132;01m{\u001b[39;00mmodel\u001b[38;5;241m.\u001b[39mconfig\u001b[38;5;241m.\u001b[39mget_project_name()\u001b[38;5;132;01m}\u001b[39;00m\u001b[38;5;124m\"\u001b[39m\u001b[38;5;124m'\u001b[39m)\n\u001b[0;32m    132\u001b[0m     lib_name \u001b[38;5;241m=\u001b[39m \u001b[38;5;124m'\u001b[39m\u001b[38;5;132;01m{}\u001b[39;00m\u001b[38;5;124m/firmware/\u001b[39m\u001b[38;5;132;01m{}\u001b[39;00m\u001b[38;5;124m-\u001b[39m\u001b[38;5;132;01m{}\u001b[39;00m\u001b[38;5;124m.so\u001b[39m\u001b[38;5;124m'\u001b[39m\u001b[38;5;241m.\u001b[39mformat(\n\u001b[0;32m    133\u001b[0m         model\u001b[38;5;241m.\u001b[39mconfig\u001b[38;5;241m.\u001b[39mget_output_dir(), model\u001b[38;5;241m.\u001b[39mconfig\u001b[38;5;241m.\u001b[39mget_project_name(), model\u001b[38;5;241m.\u001b[39mconfig\u001b[38;5;241m.\u001b[39mget_config_value(\u001b[38;5;124m'\u001b[39m\u001b[38;5;124mStamp\u001b[39m\u001b[38;5;124m'\u001b[39m)\n\u001b[0;32m    134\u001b[0m     )\n\u001b[0;32m    135\u001b[0m \u001b[38;5;28;01mfinally\u001b[39;00m:\n",
      "\u001b[1;31mException\u001b[0m: Failed to compile project \"myproject\""
     ]
    }
   ],
   "source": [
    "hls_model.compile()\n"
   ]
  },
  {
   "cell_type": "code",
   "execution_count": null,
   "metadata": {},
   "outputs": [],
   "source": [
    "X_test = np.ascontiguousarray(X_test)\n",
    "y_hls = hls_model.predict(X_test)"
   ]
  },
  {
   "cell_type": "markdown",
   "metadata": {},
   "source": [
    "## Compare\n",
    "That was easy! Now let's see how the performance compares to Keras:"
   ]
  },
  {
   "cell_type": "code",
   "execution_count": 15,
   "metadata": {},
   "outputs": [
    {
     "name": "stdout",
     "output_type": "stream",
     "text": [
      "Keras  Accuracy: 0.7631084337349398\n"
     ]
    },
    {
     "ename": "NameError",
     "evalue": "name 'y_hls' is not defined",
     "output_type": "error",
     "traceback": [
      "\u001b[1;31m---------------------------------------------------------------------------\u001b[0m",
      "\u001b[1;31mNameError\u001b[0m                                 Traceback (most recent call last)",
      "Cell \u001b[1;32mIn[15], line 2\u001b[0m\n\u001b[0;32m      1\u001b[0m \u001b[38;5;28mprint\u001b[39m(\u001b[38;5;124m\"\u001b[39m\u001b[38;5;124mKeras  Accuracy: \u001b[39m\u001b[38;5;132;01m{}\u001b[39;00m\u001b[38;5;124m\"\u001b[39m\u001b[38;5;241m.\u001b[39mformat(accuracy_score(np\u001b[38;5;241m.\u001b[39margmax(y_test, axis\u001b[38;5;241m=\u001b[39m\u001b[38;5;241m1\u001b[39m), np\u001b[38;5;241m.\u001b[39margmax(y_keras, axis\u001b[38;5;241m=\u001b[39m\u001b[38;5;241m1\u001b[39m))))\n\u001b[1;32m----> 2\u001b[0m \u001b[38;5;28mprint\u001b[39m(\u001b[38;5;124m\"\u001b[39m\u001b[38;5;124mhls4ml Accuracy: \u001b[39m\u001b[38;5;132;01m{}\u001b[39;00m\u001b[38;5;124m\"\u001b[39m\u001b[38;5;241m.\u001b[39mformat(accuracy_score(np\u001b[38;5;241m.\u001b[39margmax(y_test, axis\u001b[38;5;241m=\u001b[39m\u001b[38;5;241m1\u001b[39m), np\u001b[38;5;241m.\u001b[39margmax(\u001b[43my_hls\u001b[49m, axis\u001b[38;5;241m=\u001b[39m\u001b[38;5;241m1\u001b[39m))))\n\u001b[0;32m      4\u001b[0m fig, ax \u001b[38;5;241m=\u001b[39m plt\u001b[38;5;241m.\u001b[39msubplots(figsize\u001b[38;5;241m=\u001b[39m(\u001b[38;5;241m9\u001b[39m, \u001b[38;5;241m9\u001b[39m))\n\u001b[0;32m      5\u001b[0m _ \u001b[38;5;241m=\u001b[39m plotting\u001b[38;5;241m.\u001b[39mmakeRoc(y_test, y_keras, le\u001b[38;5;241m.\u001b[39mclasses_)\n",
      "\u001b[1;31mNameError\u001b[0m: name 'y_hls' is not defined"
     ]
    }
   ],
   "source": [
    "print(\"Keras  Accuracy: {}\".format(accuracy_score(np.argmax(y_test, axis=1), np.argmax(y_keras, axis=1))))\n",
    "print(\"hls4ml Accuracy: {}\".format(accuracy_score(np.argmax(y_test, axis=1), np.argmax(y_hls, axis=1))))\n",
    "\n",
    "fig, ax = plt.subplots(figsize=(9, 9))\n",
    "_ = plotting.makeRoc(y_test, y_keras, le.classes_)\n",
    "plt.gca().set_prop_cycle(None)  # reset the colors\n",
    "_ = plotting.makeRoc(y_test, y_hls, le.classes_, linestyle='--')\n",
    "\n",
    "from matplotlib.lines import Line2D\n",
    "\n",
    "lines = [Line2D([0], [0], ls='-'), Line2D([0], [0], ls='--')]\n",
    "from matplotlib.legend import Legend\n",
    "\n",
    "leg = Legend(ax, lines, labels=['keras', 'hls4ml'], loc='lower right', frameon=False)\n",
    "ax.add_artist(leg)"
   ]
  },
  {
   "cell_type": "markdown",
   "metadata": {},
   "source": [
    "## Synthesize\n",
    "Now we'll actually use Vivado HLS to synthesize the model. We can run the build using a method of our `hls_model` object.\n",
    "After running this step, we can integrate the generated IP into a workflow to compile for a specific FPGA board.\n",
    "In this case, we'll just review the reports that Vivado HLS generates, checking the latency and resource usage.\n",
    "\n",
    "**This can take several minutes.**\n",
    "\n",
    "While the C-Synthesis is running, we can monitor the progress looking at the log file by opening a terminal from the notebook home, and executing:\n",
    "\n",
    "`tail -f model_1/hls4ml_prj/vivado_hls.log`"
   ]
  },
  {
   "cell_type": "code",
   "execution_count": null,
   "metadata": {},
   "outputs": [],
   "source": [
    "hls_model.build(csim=False)"
   ]
  },
  {
   "cell_type": "markdown",
   "metadata": {},
   "source": [
    "## Check the reports\n",
    "Print out the reports generated by Vivado HLS. Pay attention to the Latency and the 'Utilization Estimates' sections"
   ]
  },
  {
   "cell_type": "code",
   "execution_count": null,
   "metadata": {},
   "outputs": [],
   "source": [
    "hls4ml.report.read_vivado_report('model_1/hls4ml_prj/')"
   ]
  },
  {
   "cell_type": "markdown",
   "metadata": {},
   "source": [
    "## Exercise\n",
    "Since `ReuseFactor = 1` we expect each multiplication used in the inference of our neural network to use 1 DSP. Is this what we see? (Note that the Softmax layer should use 5 DSPs, or 1 per class)\n",
    "Calculate how many multiplications are performed for the inference of this network...\n",
    "(We'll discuss the outcome)"
   ]
  }
 ],
 "metadata": {
  "kernelspec": {
   "display_name": "Python 3",
   "language": "python",
   "name": "python3"
  },
  "language_info": {
   "codemirror_mode": {
    "name": "ipython",
    "version": 3
   },
   "file_extension": ".py",
   "mimetype": "text/x-python",
   "name": "python",
   "nbconvert_exporter": "python",
   "pygments_lexer": "ipython3",
   "version": "3.9.6"
  }
 },
 "nbformat": 4,
 "nbformat_minor": 4
}
